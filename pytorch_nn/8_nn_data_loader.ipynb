{
  "nbformat": 4,
  "nbformat_minor": 0,
  "metadata": {
    "colab": {
      "name": "nn_data_loader.ipynb",
      "provenance": [],
      "authorship_tag": "ABX9TyO0Xaz7lKUOOlD6cyTOGMIo",
      "include_colab_link": true
    },
    "kernelspec": {
      "name": "python3",
      "display_name": "Python 3"
    }
  },
  "cells": [
    {
      "cell_type": "markdown",
      "metadata": {
        "id": "view-in-github",
        "colab_type": "text"
      },
      "source": [
        "<a href=\"https://colab.research.google.com/github/DucLeTrong/pytorch_review/blob/master/pytorcg_nn/nn_data_loader.ipynb\" target=\"_parent\"><img src=\"https://colab.research.google.com/assets/colab-badge.svg\" alt=\"Open In Colab\"/></a>"
      ]
    },
    {
      "cell_type": "code",
      "metadata": {
        "id": "x_Aml_DWkDnQ",
        "colab_type": "code",
        "colab": {}
      },
      "source": [
        "from pathlib import Path\n",
        "import requests\n",
        "\n",
        "DATA_PATH = Path(\"data\")\n",
        "PATH = DATA_PATH / \"mnist\"\n",
        "\n",
        "PATH.mkdir(parents=True, exist_ok=True)\n",
        "\n",
        "URL = \"http://deeplearning.net/data/mnist/\"\n",
        "FILENAME = \"mnist.pkl.gz\"\n",
        "\n",
        "if not (PATH / FILENAME).exists():\n",
        "        content = requests.get(URL + FILENAME).content\n",
        "        (PATH / FILENAME).open(\"wb\").write(content)"
      ],
      "execution_count": 0,
      "outputs": []
    },
    {
      "cell_type": "code",
      "metadata": {
        "id": "xjo7XXnvkIYu",
        "colab_type": "code",
        "colab": {}
      },
      "source": [
        "import pickle\n",
        "import gzip\n",
        "\n",
        "with gzip.open((PATH / FILENAME).as_posix(), \"rb\") as f:\n",
        "        ((x_train, y_train), (x_valid, y_valid), _) = pickle.load(f, encoding=\"latin-1\")"
      ],
      "execution_count": 0,
      "outputs": []
    },
    {
      "cell_type": "code",
      "metadata": {
        "id": "3NpHWKwZkJwb",
        "colab_type": "code",
        "colab": {
          "base_uri": "https://localhost:8080/",
          "height": 282
        },
        "outputId": "0e161a1a-9647-451c-8484-3ada8a129b38"
      },
      "source": [
        "from matplotlib import pyplot\n",
        "import numpy as np\n",
        "\n",
        "pyplot.imshow(x_train[0].reshape((28, 28)), cmap=\"gray\")\n",
        "print(x_train.shape)"
      ],
      "execution_count": 3,
      "outputs": [
        {
          "output_type": "stream",
          "text": [
            "(50000, 784)\n"
          ],
          "name": "stdout"
        },
        {
          "output_type": "display_data",
          "data": {
            "image/png": "[encoded data removed]",
            "text/plain": [
              "<Figure size 432x288 with 1 Axes>"
            ]
          },
          "metadata": {
            "tags": [],
            "needs_background": "light"
          }
        }
      ]
    },
    {
      "cell_type": "code",
      "metadata": {
        "id": "WnQAaLAPk5Oj",
        "colab_type": "code",
        "colab": {}
      },
      "source": [
        "import torch\n",
        "\n",
        "x_train, y_train, x_valid, y_valid = map(\n",
        "    torch.tensor, (x_train, y_train, x_valid, y_valid)\n",
        ")"
      ],
      "execution_count": 0,
      "outputs": []
    },
    {
      "cell_type": "code",
      "metadata": {
        "id": "Sc5lDCwQkLwP",
        "colab_type": "code",
        "colab": {}
      },
      "source": [
        "from torch.utils.data import TensorDataset"
      ],
      "execution_count": 0,
      "outputs": []
    },
    {
      "cell_type": "code",
      "metadata": {
        "id": "0xzzDzl0ktCX",
        "colab_type": "code",
        "colab": {
          "base_uri": "https://localhost:8080/",
          "height": 134
        },
        "outputId": "71f91088-dca4-4e14-d4e3-24874ba4e96e"
      },
      "source": [
        "x_train"
      ],
      "execution_count": 9,
      "outputs": [
        {
          "output_type": "execute_result",
          "data": {
            "text/plain": [
              "tensor([[0., 0., 0.,  ..., 0., 0., 0.],\n",
              "        [0., 0., 0.,  ..., 0., 0., 0.],\n",
              "        [0., 0., 0.,  ..., 0., 0., 0.],\n",
              "        ...,\n",
              "        [0., 0., 0.,  ..., 0., 0., 0.],\n",
              "        [0., 0., 0.,  ..., 0., 0., 0.],\n",
              "        [0., 0., 0.,  ..., 0., 0., 0.]])"
            ]
          },
          "metadata": {
            "tags": []
          },
          "execution_count": 9
        }
      ]
    },
    {
      "cell_type": "code",
      "metadata": {
        "id": "XIOf9SHtkehQ",
        "colab_type": "code",
        "colab": {}
      },
      "source": [
        "train_ds = TensorDataset(x_train, y_train)"
      ],
      "execution_count": 0,
      "outputs": []
    },
    {
      "cell_type": "code",
      "metadata": {
        "id": "PbTexxYikjuc",
        "colab_type": "code",
        "colab": {}
      },
      "source": [
        "bs = 64\n",
        "lr = 0.5\n",
        "epochs = 2\n",
        "n,c = x_train.shape"
      ],
      "execution_count": 0,
      "outputs": []
    },
    {
      "cell_type": "code",
      "metadata": {
        "id": "xBQ2YmmLlm86",
        "colab_type": "code",
        "colab": {}
      },
      "source": [
        "import torch.nn.functional as F\n",
        "loss_func = F.cross_entropy"
      ],
      "execution_count": 0,
      "outputs": []
    },
    {
      "cell_type": "code",
      "metadata": {
        "id": "K31vRx2EmlqR",
        "colab_type": "code",
        "colab": {}
      },
      "source": [
        "class MyModel(torch.nn.Module):\n",
        "    def __init__(self):\n",
        "        super().__init__()\n",
        "        self.linear = torch.nn.Linear(784,10)\n",
        "    def forward(self, xb):\n",
        "        return self.linear(xb)"
      ],
      "execution_count": 0,
      "outputs": []
    },
    {
      "cell_type": "code",
      "metadata": {
        "id": "KRb6ArjendX3",
        "colab_type": "code",
        "colab": {}
      },
      "source": [
        "model = MyModel()"
      ],
      "execution_count": 0,
      "outputs": []
    },
    {
      "cell_type": "code",
      "metadata": {
        "id": "ecgmDfxQnV5q",
        "colab_type": "code",
        "colab": {}
      },
      "source": [
        "opt = torch.optim.SGD(model.parameters(), lr=lr)"
      ],
      "execution_count": 0,
      "outputs": []
    },
    {
      "cell_type": "code",
      "metadata": {
        "id": "BCwGq-W-l5Bb",
        "colab_type": "code",
        "colab": {}
      },
      "source": [
        "def fit():\n",
        "    for epoch in range(epochs):\n",
        "        for i in range((n-1)//bs +1):\n",
        "            start_i = i*bs\n",
        "            end_i = i*bs + bs\n",
        "            xb,yb = train_ds[start_i: end_i]\n",
        "            y_pred = model(xb)\n",
        "            loss = loss_func(y_pred, yb)\n",
        "            if i % 10 == 0:\n",
        "                print(loss)\n",
        "            loss.backward()\n",
        "            opt.step()\n",
        "            opt.zero_grad()\n"
      ],
      "execution_count": 0,
      "outputs": []
    },
    {
      "cell_type": "code",
      "metadata": {
        "id": "sVDSdFtxmI-6",
        "colab_type": "code",
        "colab": {
          "base_uri": "https://localhost:8080/",
          "height": 1000
        },
        "outputId": "87ae31d8-d3c1-476c-b3d7-44fed9827844"
      },
      "source": [
        "fit()"
      ],
      "execution_count": 26,
      "outputs": [
        {
          "output_type": "stream",
          "text": [
            "tensor(2.2683, grad_fn=<NllLossBackward>)\n",
            "tensor(0.9265, grad_fn=<NllLossBackward>)\n",
            "tensor(0.6948, grad_fn=<NllLossBackward>)\n",
            "tensor(0.4651, grad_fn=<NllLossBackward>)\n",
            "tensor(0.4110, grad_fn=<NllLossBackward>)\n",
            "tensor(0.4150, grad_fn=<NllLossBackward>)\n",
            "tensor(0.3046, grad_fn=<NllLossBackward>)\n",
            "tensor(0.3580, grad_fn=<NllLossBackward>)\n",
            "tensor(0.7591, grad_fn=<NllLossBackward>)\n",
            "tensor(0.2992, grad_fn=<NllLossBackward>)\n",
            "tensor(0.3145, grad_fn=<NllLossBackward>)\n",
            "tensor(0.2989, grad_fn=<NllLossBackward>)\n",
            "tensor(0.3537, grad_fn=<NllLossBackward>)\n",
            "tensor(0.2619, grad_fn=<NllLossBackward>)\n",
            "tensor(0.3208, grad_fn=<NllLossBackward>)\n",
            "tensor(0.2718, grad_fn=<NllLossBackward>)\n",
            "tensor(0.3736, grad_fn=<NllLossBackward>)\n",
            "tensor(0.2848, grad_fn=<NllLossBackward>)\n",
            "tensor(0.6225, grad_fn=<NllLossBackward>)\n",
            "tensor(0.4652, grad_fn=<NllLossBackward>)\n",
            "tensor(0.2967, grad_fn=<NllLossBackward>)\n",
            "tensor(0.2352, grad_fn=<NllLossBackward>)\n",
            "tensor(0.4513, grad_fn=<NllLossBackward>)\n",
            "tensor(0.5933, grad_fn=<NllLossBackward>)\n",
            "tensor(0.2658, grad_fn=<NllLossBackward>)\n",
            "tensor(0.5578, grad_fn=<NllLossBackward>)\n",
            "tensor(0.4367, grad_fn=<NllLossBackward>)\n",
            "tensor(0.2165, grad_fn=<NllLossBackward>)\n",
            "tensor(0.2695, grad_fn=<NllLossBackward>)\n",
            "tensor(0.4540, grad_fn=<NllLossBackward>)\n",
            "tensor(0.3911, grad_fn=<NllLossBackward>)\n",
            "tensor(0.2314, grad_fn=<NllLossBackward>)\n",
            "tensor(0.2251, grad_fn=<NllLossBackward>)\n",
            "tensor(0.3217, grad_fn=<NllLossBackward>)\n",
            "tensor(0.0979, grad_fn=<NllLossBackward>)\n",
            "tensor(0.3005, grad_fn=<NllLossBackward>)\n",
            "tensor(0.4516, grad_fn=<NllLossBackward>)\n",
            "tensor(0.5847, grad_fn=<NllLossBackward>)\n",
            "tensor(0.2433, grad_fn=<NllLossBackward>)\n",
            "tensor(0.3590, grad_fn=<NllLossBackward>)\n",
            "tensor(0.2332, grad_fn=<NllLossBackward>)\n",
            "tensor(0.3538, grad_fn=<NllLossBackward>)\n",
            "tensor(0.5009, grad_fn=<NllLossBackward>)\n",
            "tensor(0.2221, grad_fn=<NllLossBackward>)\n",
            "tensor(0.3098, grad_fn=<NllLossBackward>)\n",
            "tensor(0.2133, grad_fn=<NllLossBackward>)\n",
            "tensor(0.2426, grad_fn=<NllLossBackward>)\n",
            "tensor(0.4089, grad_fn=<NllLossBackward>)\n",
            "tensor(0.3751, grad_fn=<NllLossBackward>)\n",
            "tensor(0.5874, grad_fn=<NllLossBackward>)\n",
            "tensor(0.3786, grad_fn=<NllLossBackward>)\n",
            "tensor(0.4498, grad_fn=<NllLossBackward>)\n",
            "tensor(0.3879, grad_fn=<NllLossBackward>)\n",
            "tensor(0.1674, grad_fn=<NllLossBackward>)\n",
            "tensor(0.3344, grad_fn=<NllLossBackward>)\n",
            "tensor(0.3624, grad_fn=<NllLossBackward>)\n",
            "tensor(0.2787, grad_fn=<NllLossBackward>)\n",
            "tensor(0.1968, grad_fn=<NllLossBackward>)\n",
            "tensor(0.4306, grad_fn=<NllLossBackward>)\n",
            "tensor(0.2936, grad_fn=<NllLossBackward>)\n",
            "tensor(0.2621, grad_fn=<NllLossBackward>)\n",
            "tensor(0.1628, grad_fn=<NllLossBackward>)\n",
            "tensor(0.2891, grad_fn=<NllLossBackward>)\n",
            "tensor(0.2909, grad_fn=<NllLossBackward>)\n",
            "tensor(0.4846, grad_fn=<NllLossBackward>)\n",
            "tensor(0.2277, grad_fn=<NllLossBackward>)\n",
            "tensor(0.1668, grad_fn=<NllLossBackward>)\n",
            "tensor(0.4766, grad_fn=<NllLossBackward>)\n",
            "tensor(0.3506, grad_fn=<NllLossBackward>)\n",
            "tensor(0.2098, grad_fn=<NllLossBackward>)\n",
            "tensor(0.3813, grad_fn=<NllLossBackward>)\n",
            "tensor(0.6461, grad_fn=<NllLossBackward>)\n",
            "tensor(0.4722, grad_fn=<NllLossBackward>)\n",
            "tensor(0.4183, grad_fn=<NllLossBackward>)\n",
            "tensor(0.3213, grad_fn=<NllLossBackward>)\n",
            "tensor(0.2159, grad_fn=<NllLossBackward>)\n",
            "tensor(0.3086, grad_fn=<NllLossBackward>)\n",
            "tensor(0.2084, grad_fn=<NllLossBackward>)\n",
            "tensor(0.2345, grad_fn=<NllLossBackward>)\n",
            "tensor(0.2808, grad_fn=<NllLossBackward>)\n",
            "tensor(0.3451, grad_fn=<NllLossBackward>)\n",
            "tensor(0.3740, grad_fn=<NllLossBackward>)\n",
            "tensor(0.2092, grad_fn=<NllLossBackward>)\n",
            "tensor(0.2004, grad_fn=<NllLossBackward>)\n",
            "tensor(0.3377, grad_fn=<NllLossBackward>)\n",
            "tensor(0.1299, grad_fn=<NllLossBackward>)\n",
            "tensor(0.2579, grad_fn=<NllLossBackward>)\n",
            "tensor(0.6238, grad_fn=<NllLossBackward>)\n",
            "tensor(0.2156, grad_fn=<NllLossBackward>)\n",
            "tensor(0.2599, grad_fn=<NllLossBackward>)\n",
            "tensor(0.2178, grad_fn=<NllLossBackward>)\n",
            "tensor(0.2488, grad_fn=<NllLossBackward>)\n",
            "tensor(0.1641, grad_fn=<NllLossBackward>)\n",
            "tensor(0.2415, grad_fn=<NllLossBackward>)\n",
            "tensor(0.1975, grad_fn=<NllLossBackward>)\n",
            "tensor(0.2334, grad_fn=<NllLossBackward>)\n",
            "tensor(0.2132, grad_fn=<NllLossBackward>)\n",
            "tensor(0.5543, grad_fn=<NllLossBackward>)\n",
            "tensor(0.4683, grad_fn=<NllLossBackward>)\n",
            "tensor(0.1953, grad_fn=<NllLossBackward>)\n",
            "tensor(0.1949, grad_fn=<NllLossBackward>)\n",
            "tensor(0.3791, grad_fn=<NllLossBackward>)\n",
            "tensor(0.5833, grad_fn=<NllLossBackward>)\n",
            "tensor(0.1798, grad_fn=<NllLossBackward>)\n",
            "tensor(0.4896, grad_fn=<NllLossBackward>)\n",
            "tensor(0.3568, grad_fn=<NllLossBackward>)\n",
            "tensor(0.1476, grad_fn=<NllLossBackward>)\n",
            "tensor(0.2367, grad_fn=<NllLossBackward>)\n",
            "tensor(0.4107, grad_fn=<NllLossBackward>)\n",
            "tensor(0.3437, grad_fn=<NllLossBackward>)\n",
            "tensor(0.1619, grad_fn=<NllLossBackward>)\n",
            "tensor(0.1871, grad_fn=<NllLossBackward>)\n",
            "tensor(0.2917, grad_fn=<NllLossBackward>)\n",
            "tensor(0.0837, grad_fn=<NllLossBackward>)\n",
            "tensor(0.2534, grad_fn=<NllLossBackward>)\n",
            "tensor(0.4340, grad_fn=<NllLossBackward>)\n",
            "tensor(0.5334, grad_fn=<NllLossBackward>)\n",
            "tensor(0.1989, grad_fn=<NllLossBackward>)\n",
            "tensor(0.2922, grad_fn=<NllLossBackward>)\n",
            "tensor(0.2083, grad_fn=<NllLossBackward>)\n",
            "tensor(0.3113, grad_fn=<NllLossBackward>)\n",
            "tensor(0.4822, grad_fn=<NllLossBackward>)\n",
            "tensor(0.2235, grad_fn=<NllLossBackward>)\n",
            "tensor(0.2515, grad_fn=<NllLossBackward>)\n",
            "tensor(0.1752, grad_fn=<NllLossBackward>)\n",
            "tensor(0.1934, grad_fn=<NllLossBackward>)\n",
            "tensor(0.3678, grad_fn=<NllLossBackward>)\n",
            "tensor(0.3474, grad_fn=<NllLossBackward>)\n",
            "tensor(0.5375, grad_fn=<NllLossBackward>)\n",
            "tensor(0.3539, grad_fn=<NllLossBackward>)\n",
            "tensor(0.4563, grad_fn=<NllLossBackward>)\n",
            "tensor(0.4042, grad_fn=<NllLossBackward>)\n",
            "tensor(0.1487, grad_fn=<NllLossBackward>)\n",
            "tensor(0.2965, grad_fn=<NllLossBackward>)\n",
            "tensor(0.3239, grad_fn=<NllLossBackward>)\n",
            "tensor(0.2448, grad_fn=<NllLossBackward>)\n",
            "tensor(0.1743, grad_fn=<NllLossBackward>)\n",
            "tensor(0.4388, grad_fn=<NllLossBackward>)\n",
            "tensor(0.2661, grad_fn=<NllLossBackward>)\n",
            "tensor(0.2252, grad_fn=<NllLossBackward>)\n",
            "tensor(0.1495, grad_fn=<NllLossBackward>)\n",
            "tensor(0.2554, grad_fn=<NllLossBackward>)\n",
            "tensor(0.2848, grad_fn=<NllLossBackward>)\n",
            "tensor(0.4804, grad_fn=<NllLossBackward>)\n",
            "tensor(0.1970, grad_fn=<NllLossBackward>)\n",
            "tensor(0.1458, grad_fn=<NllLossBackward>)\n",
            "tensor(0.4289, grad_fn=<NllLossBackward>)\n",
            "tensor(0.3474, grad_fn=<NllLossBackward>)\n",
            "tensor(0.1716, grad_fn=<NllLossBackward>)\n",
            "tensor(0.3639, grad_fn=<NllLossBackward>)\n",
            "tensor(0.6080, grad_fn=<NllLossBackward>)\n",
            "tensor(0.4432, grad_fn=<NllLossBackward>)\n",
            "tensor(0.4296, grad_fn=<NllLossBackward>)\n",
            "tensor(0.2792, grad_fn=<NllLossBackward>)\n",
            "tensor(0.1905, grad_fn=<NllLossBackward>)\n",
            "tensor(0.2929, grad_fn=<NllLossBackward>)\n",
            "tensor(0.2004, grad_fn=<NllLossBackward>)\n",
            "tensor(0.2078, grad_fn=<NllLossBackward>)\n"
          ],
          "name": "stdout"
        }
      ]
    },
    {
      "cell_type": "code",
      "metadata": {
        "id": "qpKQK5GqnwHN",
        "colab_type": "code",
        "colab": {}
      },
      "source": [
        ""
      ],
      "execution_count": 0,
      "outputs": []
    }
  ]
}